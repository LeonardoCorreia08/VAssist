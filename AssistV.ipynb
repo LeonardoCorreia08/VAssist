{
  "nbformat": 4,
  "nbformat_minor": 0,
  "metadata": {
    "colab": {
      "provenance": []
    },
    "kernelspec": {
      "name": "python3",
      "display_name": "Python 3"
    },
    "language_info": {
      "name": "python"
    }
  },
  "cells": [
    {
      "cell_type": "code",
      "source": [
        "!pip install SpeechRecognition"
      ],
      "metadata": {
        "id": "UD3RPhXUqa0n"
      },
      "execution_count": null,
      "outputs": []
    },
    {
      "cell_type": "code",
      "source": [
        "!pip install geopy"
      ],
      "metadata": {
        "id": "pa5899B6qqco"
      },
      "execution_count": null,
      "outputs": []
    },
    {
      "cell_type": "code",
      "source": [
        "!pip install SpeechRecognition geopy pyttsx3"
      ],
      "metadata": {
        "id": "9WIZfkRrtoWs"
      },
      "execution_count": null,
      "outputs": []
    },
    {
      "cell_type": "code",
      "execution_count": null,
      "metadata": {
        "id": "LUHxgUKiqUvQ"
      },
      "outputs": [],
      "source": [
        "# import speech_recognition as sr\n",
        "import webbrowser\n",
        "from geopy.geocoders import Nominatim\n",
        "\n",
        "# Função para simular o reconhecimento de fala (implementação real requer bibliotecas adicionais)\n",
        "def reconhecer_comando():\n",
        "    return input(\"Digite o comando de voz: \").lower()\n",
        "\n",
        "# Função para abrir pesquisa no Wikipedia (não implementada neste exemplo)\n",
        "def abrir_pesquisa_wikipedia():\n",
        "    print(\"Função para abrir pesquisa no Wikipedia ainda não implementada.\")\n",
        "\n",
        "# Função para abrir o Youtube\n",
        "def abrir_youtube():\n",
        "    webbrowser.open(\"https://www.youtube.com/\")\n",
        "\n",
        "# Função para localizar farmácia mais próxima\n",
        "def localizar_farmacia_proxima():\n",
        "    geolocator = Nominatim(user_agent=\"localizador_farmacia\")\n",
        "    localizacao = geolocator.geocode(\"farmacia\", language=\"pt\")\n",
        "    if localizacao:\n",
        "        latitude, longitude = localizacao.latitude, localizacao.longitude\n",
        "        url = f\"https://www.google.com/maps/search/farmacia/@{latitude},{longitude}\"\n",
        "        webbrowser.open(url)\n",
        "    else:\n",
        "        print(\"Não foi possível encontrar a localização da farmácia mais próxima.\")\n",
        "\n",
        "if __name__ == \"__main__\":\n",
        "    while True:\n",
        "        print(\"O que você quer fazer?\")\n",
        "        comando = reconhecer_comando()\n",
        "\n",
        "        if \"abrir pesquisa no wikipedia\" in comando:\n",
        "            abrir_pesquisa_wikipedia()\n",
        "\n",
        "        elif \"abrir o youtube\" in comando:\n",
        "            abrir_youtube()\n",
        "\n",
        "        elif \"apresentar a localização da farmácia mais próxima\" in comando:\n",
        "            localizar_farmacia_proxima()\n",
        "\n",
        "        elif \"sair\" in comando:\n",
        "            print(\"Encerrando o programa...\")\n",
        "            break\n",
        "\n",
        "        else:\n",
        "            print(\"Comando não reconhecido. Tente novamente.\")\n"
      ]
    },
    {
      "cell_type": "code",
      "source": [
        "import speech_recognition as sr\n",
        "import webbrowser\n",
        "from geopy.geocoders import Nominatim\n",
        "\n",
        "def reconhecer_comando():\n",
        "    recognizer = sr.Recognizer()\n",
        "\n",
        "    with sr.Microphone() as source:\n",
        "        print(\"Diga algo...\")\n",
        "        audio = recognizer.listen(source)\n",
        "\n",
        "    try:\n",
        "        texto = recognizer.recognize_google(audio, language=\"pt-BR\")\n",
        "        print(\"Você disse: \" + texto)\n",
        "        return texto.lower()\n",
        "    except sr.UnknownValueError:\n",
        "        print(\"Não consegui entender o áudio.\")\n",
        "    except sr.RequestError as e:\n",
        "        print(\"Erro ao chamar a API do Google; {0}\".format(e))\n",
        "\n",
        "    return None\n",
        "\n",
        "def abrir_pesquisa_wikipedia():\n",
        "    # (código de abrir pesquisa no Wikipedia como antes)\n",
        "\n",
        "def abrir_youtube():\n",
        "    pass\n",
        "\n",
        "def localizar_farmacia_proxima():\n",
        "    # (código de localizar farmácia mais próxima como antes)\n",
        "\n",
        "if __name__ == \"__main__\":\n",
        "    while True:\n",
        "        print(\"O que você quer fazer?\")\n",
        "        comando = reconhecer_comando()\n",
        "\n",
        "        if \"abrir pesquisa no wikipedia\" in comando:\n",
        "            abrir_pesquisa_wikipedia()\n",
        "\n",
        "        elif \"abrir o youtube\" in comando:\n",
        "            abrir_youtube()\n",
        "\n",
        "        elif \"apresentar a localização da farmácia mais próxima\" in comando:\n",
        "            localizar_farmacia_proxima()\n",
        "\n",
        "        elif \"sair\" in comando:\n",
        "            print(\"Encerrando o programa...\")\n",
        "            break\n",
        "\n",
        "        else:\n",
        "            print(\"Comando não reconhecido. Tente novamente.\")\n"
      ],
      "metadata": {
        "id": "B6xTElRJsFwg"
      },
      "execution_count": null,
      "outputs": []
    },
    {
      "cell_type": "code",
      "source": [
        "import speech_recognition as sr\n",
        "import webbrowser\n",
        "from geopy.geocoders import Nominatim\n",
        "\n",
        "def reconhecer_comando():\n",
        "    recognizer = sr.Recognizer()\n",
        "\n",
        "    with sr.Microphone() as source:\n",
        "        print(\"Diga algo...\")\n",
        "        audio = recognizer.listen(source)\n",
        "\n",
        "    try:\n",
        "        texto = recognizer.recognize_google(audio, language=\"pt-BR\")\n",
        "        print(\"Você disse: \" + texto)\n",
        "        return texto.lower()\n",
        "    except sr.UnknownValueError:\n",
        "        print(\"Não consegui entender o áudio.\")\n",
        "    except sr.RequestError as e:\n",
        "        print(\"Erro ao chamar a API do Google; {0}\".format(e))\n",
        "\n",
        "    return None\n",
        "\n",
        "def abrir_pesquisa_wikipedia():\n",
        "    comando = reconhecer_comando()\n",
        "    if comando:\n",
        "        pesquisa = comando.replace(\"abrir pesquisa no wikipedia\", \"\")\n",
        "        pesquisa = pesquisa.strip()\n",
        "        url = \"https://pt.wikipedia.org/wiki/\" + pesquisa\n",
        "        webbrowser.open(url)\n",
        "\n",
        "def abrir_youtube():\n",
        "    webbrowser.open(\"https://www.youtube.com/\")\n",
        "\n",
        "def localizar_farmacia_proxima():\n",
        "    geolocator = Nominatim(user_agent=\"localizador_farmacia\")\n",
        "    localizacao = geolocator.geocode(\"farmacia\", language=\"pt\")\n",
        "    if localizacao:\n",
        "        latitude, longitude = localizacao.latitude, localizacao.longitude\n",
        "        url = f\"https://www.google.com/maps/search/farmacia/@{latitude},{longitude}\"\n",
        "        webbrowser.open(url)\n",
        "    else:\n",
        "        print(\"Não foi possível encontrar a localização da farmácia mais próxima.\")\n",
        "\n",
        "if __name__ == \"__main__\":\n",
        "    while True:\n",
        "        print(\"O que você quer fazer?\")\n",
        "        comando = reconhecer_comando()\n",
        "\n",
        "        if \"abrir pesquisa no wikipedia\" in comando:\n",
        "            abrir_pesquisa_wikipedia()\n",
        "\n",
        "        elif \"abrir o youtube\" in comando:\n",
        "            abrir_youtube()\n",
        "\n",
        "        elif \"apresentar a localização da farmácia mais próxima\" in comando:\n",
        "            localizar_farmacia_proxima()\n",
        "\n",
        "        elif \"sair\" in comando:\n",
        "            print(\"Encerrando o programa...\")\n",
        "            break\n",
        "\n",
        "        else:\n",
        "            print(\"Comando não reconhecido. Tente novamente.\")\n"
      ],
      "metadata": {
        "id": "KsJcoOJKseBw"
      },
      "execution_count": null,
      "outputs": []
    }
  ]
}